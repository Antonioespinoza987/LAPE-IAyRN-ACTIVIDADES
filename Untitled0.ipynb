{
  "nbformat": 4,
  "nbformat_minor": 0,
  "metadata": {
    "colab": {
      "provenance": [],
      "authorship_tag": "ABX9TyNh2MRu+lMHSsa8vnq8JAJ5",
      "include_colab_link": true
    },
    "kernelspec": {
      "name": "python3",
      "display_name": "Python 3"
    },
    "language_info": {
      "name": "python"
    }
  },
  "cells": [
    {
      "cell_type": "markdown",
      "metadata": {
        "id": "view-in-github",
        "colab_type": "text"
      },
      "source": [
        "<a href=\"https://colab.research.google.com/github/Antonioespinoza987/LAPE-IAyRN-ACTIVIDADES/blob/main/Untitled0.ipynb\" target=\"_parent\"><img src=\"https://colab.research.google.com/assets/colab-badge.svg\" alt=\"Open In Colab\"/></a>"
      ]
    },
    {
      "cell_type": "code",
      "execution_count": null,
      "metadata": {
        "id": "IoVKbqDoXgUG"
      },
      "outputs": [],
      "source": [
        "# AF5 - Procesamiento de datos"
      ]
    },
    {
      "cell_type": "code",
      "source": [
        "print(\"AF5 - Procesamiento de datos\\nAutores: [Luis Daniel Aguilar Miranda, Melenie Azeneth Domínguez González, Luis Antonio Pérez Espinoza, Elizabeth Spinoso Castillo , Diana Sánchez Arévalo ]\")"
      ],
      "metadata": {
        "colab": {
          "base_uri": "https://localhost:8080/"
        },
        "id": "FFmLwmEZX7sr",
        "outputId": "4ffc9661-fa8a-49c2-9045-6a78f137e6bf"
      },
      "execution_count": 1,
      "outputs": [
        {
          "output_type": "stream",
          "name": "stdout",
          "text": [
            "AF5 - Procesamiento de datos\n",
            "Autores: [Luis Daniel Aguilar Miranda, Melenie Azeneth Domínguez González, Luis Antonio Pérez Espinoza, Elizabeth Spinoso Castillo , Diana Sánchez Arévalo ]\n"
          ]
        }
      ]
    },
    {
      "cell_type": "code",
      "source": [
        "import pandas as pd\n"
      ],
      "metadata": {
        "id": "mes3KK--YpNx"
      },
      "execution_count": 2,
      "outputs": []
    },
    {
      "cell_type": "code",
      "source": [],
      "metadata": {
        "id": "aeBjypf6YyLI"
      },
      "execution_count": null,
      "outputs": []
    }
  ]
}